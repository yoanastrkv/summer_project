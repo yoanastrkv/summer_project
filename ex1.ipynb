{
 "cells": [
  {
   "cell_type": "markdown",
   "id": "c1b67997-84c8-43dc-abb0-24eca7038eff",
   "metadata": {},
   "source": [
    "## Notebook 1"
   ]
  },
  {
   "cell_type": "code",
   "execution_count": 3,
   "id": "2727c804-1548-4f23-a803-a418ab025ddc",
   "metadata": {},
   "outputs": [],
   "source": [
    "# new change\n",
    "import numpy as np\n",
    "import matplotlib.pyplot as plt\n",
    "from astropy.io import fits\n",
    "from astropy.table import Table\n",
    "from astropy import units as u # also, import astropy.units as u\n",
    "# comment\n",
    "plt.ion()\n",
    "import os"
   ]
  },
  {
   "cell_type": "code",
   "execution_count": 2,
   "id": "36076a86-4dc3-4ab3-89ca-4701a39f6cab",
   "metadata": {},
   "outputs": [
    {
     "data": {
      "text/plain": [
       "1.5"
      ]
     },
     "execution_count": 2,
     "metadata": {},
     "output_type": "execute_result"
    }
   ],
   "source": [
    "3/2"
   ]
  },
  {
   "cell_type": "code",
   "execution_count": 3,
   "id": "ce1794a1-f1c7-4286-837c-a9b4be56ce9a",
   "metadata": {},
   "outputs": [
    {
     "data": {
      "text/plain": [
       "64"
      ]
     },
     "execution_count": 3,
     "metadata": {},
     "output_type": "execute_result"
    }
   ],
   "source": [
    "4**3"
   ]
  },
  {
   "cell_type": "code",
   "execution_count": 5,
   "id": "05da6609-0f77-4877-bc37-f5311a9d71ba",
   "metadata": {},
   "outputs": [
    {
     "data": {
      "text/plain": [
       "50"
      ]
     },
     "execution_count": 5,
     "metadata": {},
     "output_type": "execute_result"
    }
   ],
   "source": [
    "2+3*4**2"
   ]
  },
  {
   "cell_type": "code",
   "execution_count": 8,
   "id": "c6501440-3765-4ad6-afef-02501e9cf755",
   "metadata": {},
   "outputs": [
    {
     "ename": "NameError",
     "evalue": "name 'j' is not defined",
     "output_type": "error",
     "traceback": [
      "\u001b[31m---------------------------------------------------------------------------\u001b[39m",
      "\u001b[31mNameError\u001b[39m                                 Traceback (most recent call last)",
      "\u001b[36mCell\u001b[39m\u001b[36m \u001b[39m\u001b[32mIn[8]\u001b[39m\u001b[32m, line 1\u001b[39m\n\u001b[32m----> \u001b[39m\u001b[32m1\u001b[39m (\u001b[32m1\u001b[39m+\u001b[43mj\u001b[49m)**\u001b[32m2\u001b[39m\n",
      "\u001b[31mNameError\u001b[39m: name 'j' is not defined"
     ]
    }
   ],
   "source": [
    "(1+j)**2"
   ]
  },
  {
   "cell_type": "code",
   "execution_count": 9,
   "id": "9501b49e-abd8-4fee-8a18-c6caadf470f2",
   "metadata": {},
   "outputs": [
    {
     "data": {
      "text/plain": [
       "2j"
      ]
     },
     "execution_count": 9,
     "metadata": {},
     "output_type": "execute_result"
    }
   ],
   "source": [
    "z1 = complex(1, 1) \n",
    "z1**2"
   ]
  },
  {
   "cell_type": "code",
   "execution_count": 10,
   "id": "6a12f07b-e590-4a9a-964f-efb86842097f",
   "metadata": {},
   "outputs": [
    {
     "name": "stdout",
     "output_type": "stream",
     "text": [
      "The value of b is 7.5\n",
      "The square of b is 56.25\n",
      "b**2=56.25\n"
     ]
    }
   ],
   "source": [
    "b = 7.5\n",
    "\n",
    "# Anything inside curly braces is treated as a Python expression\n",
    "s = f\"The value of b is {b}\"\n",
    "print(s)\n",
    "\n",
    "# It is an *expresssion* so you can do math in it\n",
    "print(f\"The square of b is {b**2}\")\n",
    "\n",
    "# Finally, there is an \"=\" formatter that prints the expression AND its value.\n",
    "# This can be super handy when debugging\n",
    "print(f\"{b**2=}\")"
   ]
  },
  {
   "cell_type": "code",
   "execution_count": 11,
   "id": "3c698785-023b-4db4-b24b-e50c1c47ba49",
   "metadata": {},
   "outputs": [
    {
     "data": {
      "text/plain": [
       "23"
      ]
     },
     "execution_count": 11,
     "metadata": {},
     "output_type": "execute_result"
    }
   ],
   "source": [
    "li = [1, 8, 56, 79, 23]\n",
    "li[-1]"
   ]
  },
  {
   "cell_type": "code",
   "execution_count": 12,
   "id": "4925b0af-7f79-420d-a7f7-90758596d03d",
   "metadata": {},
   "outputs": [
    {
     "data": {
      "text/plain": [
       "[1, 8]"
      ]
     },
     "execution_count": 12,
     "metadata": {},
     "output_type": "execute_result"
    }
   ],
   "source": [
    "li[0:2]"
   ]
  },
  {
   "cell_type": "code",
   "execution_count": 13,
   "id": "41f8b33b-36d1-4ae3-b3d8-f75c1a99bab4",
   "metadata": {},
   "outputs": [
    {
     "data": {
      "text/plain": [
       "[1, 8, 56, 79]"
      ]
     },
     "execution_count": 13,
     "metadata": {},
     "output_type": "execute_result"
    }
   ],
   "source": [
    "li[:4]"
   ]
  },
  {
   "cell_type": "code",
   "execution_count": 14,
   "id": "f900ea7c-eca0-4542-ad0d-73acfe6ea261",
   "metadata": {},
   "outputs": [
    {
     "data": {
      "text/plain": [
       "[56, 79, 23]"
      ]
     },
     "execution_count": 14,
     "metadata": {},
     "output_type": "execute_result"
    }
   ],
   "source": [
    "li[2:]"
   ]
  },
  {
   "cell_type": "code",
   "execution_count": 15,
   "id": "c86271f5-70ce-4af4-ad77-a8d6e29f86e3",
   "metadata": {},
   "outputs": [
    {
     "data": {
      "text/plain": [
       "[1, 56, 23]"
      ]
     },
     "execution_count": 15,
     "metadata": {},
     "output_type": "execute_result"
    }
   ],
   "source": [
    "li[::2]"
   ]
  },
  {
   "cell_type": "code",
   "execution_count": 16,
   "id": "65ffe8bc-af44-4ca7-b712-6c9fb34e55bd",
   "metadata": {},
   "outputs": [
    {
     "data": {
      "text/plain": [
       "[1, 79]"
      ]
     },
     "execution_count": 16,
     "metadata": {},
     "output_type": "execute_result"
    }
   ],
   "source": [
    "li[::3]"
   ]
  },
  {
   "cell_type": "code",
   "execution_count": null,
   "id": "54151914-e6c9-4161-bae7-651c46611612",
   "metadata": {},
   "outputs": [],
   "source": []
  }
 ],
 "metadata": {
  "kernelspec": {
   "display_name": "Python 3 (ipykernel)",
   "language": "python",
   "name": "python3"
  },
  "language_info": {
   "codemirror_mode": {
    "name": "ipython",
    "version": 3
   },
   "file_extension": ".py",
   "mimetype": "text/x-python",
   "name": "python",
   "nbconvert_exporter": "python",
   "pygments_lexer": "ipython3",
   "version": "3.13.5"
  }
 },
 "nbformat": 4,
 "nbformat_minor": 5
}
