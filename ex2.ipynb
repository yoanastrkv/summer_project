{
 "cells": [
  {
   "cell_type": "code",
   "execution_count": null,
   "id": "412aaba0-a305-4c1a-af7a-4305efacc72d",
   "metadata": {},
   "outputs": [],
   "source": [
    "import numpy as np\n",
    "import matplotlib.pyplot as plt\n",
    "from astropy.io import fits\n",
    "from astropy.table import Table\n",
    "from astropy import units as u # also, import astropy.units as u\n",
    "# comment\n",
    "plt.ion()\n",
    "import os"
   ]
  },
  {
   "cell_type": "code",
   "execution_count": 2,
   "id": "43b31110-3b27-4cc0-991a-b8b638af6331",
   "metadata": {},
   "outputs": [
    {
     "name": "stdout",
     "output_type": "stream",
     "text": [
      "Hello,  world!\n"
     ]
    }
   ],
   "source": [
    "li = \"Hello, egg world!\"\n",
    "result = li.replace(\"egg\", \"\").strip()\n",
    "print(result)"
   ]
  },
  {
   "cell_type": "code",
   "execution_count": null,
   "id": "22ec1d6e-9973-4f3d-b851-338c9a1588cc",
   "metadata": {},
   "outputs": [],
   "source": [
    "x=5\n",
    "(x>3.4 and x<=6.6) or x==2"
   ]
  },
  {
   "cell_type": "code",
   "execution_count": null,
   "id": "d9b283db-75e3-4091-8de0-fa379776f4ed",
   "metadata": {},
   "outputs": [],
   "source": []
  }
 ],
 "metadata": {
  "kernelspec": {
   "display_name": "Python 3 (ipykernel)",
   "language": "python",
   "name": "python3"
  },
  "language_info": {
   "codemirror_mode": {
    "name": "ipython",
    "version": 3
   },
   "file_extension": ".py",
   "mimetype": "text/x-python",
   "name": "python",
   "nbconvert_exporter": "python",
   "pygments_lexer": "ipython3",
   "version": "3.13.5"
  }
 },
 "nbformat": 4,
 "nbformat_minor": 5
}
